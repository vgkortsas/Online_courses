{
 "cells": [
  {
   "cell_type": "markdown",
   "metadata": {},
   "source": [
    "# TV Script Generation\n",
    "In this project, you'll generate your own [Simpsons](https://en.wikipedia.org/wiki/The_Simpsons) TV scripts using RNNs.  You'll be using part of the [Simpsons dataset](https://www.kaggle.com/wcukierski/the-simpsons-by-the-data) of scripts from 27 seasons.  The Neural Network you'll build will generate a new TV script for a scene at [Moe's Tavern](https://simpsonswiki.com/wiki/Moe's_Tavern).\n",
    "## Get the Data\n",
    "The data is already provided for you.  You'll be using a subset of the original dataset.  It consists of only the scenes in Moe's Tavern.  This doesn't include other versions of the tavern, like \"Moe's Cavern\", \"Flaming Moe's\", \"Uncle Moe's Family Feed-Bag\", etc.."
   ]
  },
  {
   "cell_type": "code",
   "execution_count": 1,
   "metadata": {
    "collapsed": true
   },
   "outputs": [],
   "source": [
    "\"\"\"\n",
    "DON'T MODIFY ANYTHING IN THIS CELL\n",
    "\"\"\"\n",
    "import helper\n",
    "\n",
    "data_dir = './data/simpsons/moes_tavern_lines.txt'\n",
    "text = helper.load_data(data_dir)\n",
    "# Ignore notice, since we don't use it for analysing the data\n",
    "text = text[81:]"
   ]
  },
  {
   "cell_type": "markdown",
   "metadata": {},
   "source": [
    "## Explore the Data\n",
    "Play around with `view_sentence_range` to view different parts of the data."
   ]
  },
  {
   "cell_type": "code",
   "execution_count": 2,
   "metadata": {},
   "outputs": [
    {
     "name": "stdout",
     "output_type": "stream",
     "text": [
      "Dataset Stats\n",
      "Roughly the number of unique words: 11492\n",
      "Number of scenes: 262\n",
      "Average number of sentences in each scene: 15.248091603053435\n",
      "Number of lines: 4257\n",
      "Average number of words in each line: 11.50434578341555\n",
      "\n",
      "The sentences 0 to 10:\n",
      "Moe_Szyslak: (INTO PHONE) Moe's Tavern. Where the elite meet to drink.\n",
      "Bart_Simpson: Eh, yeah, hello, is Mike there? Last name, Rotch.\n",
      "Moe_Szyslak: (INTO PHONE) Hold on, I'll check. (TO BARFLIES) Mike Rotch. Mike Rotch. Hey, has anybody seen Mike Rotch, lately?\n",
      "Moe_Szyslak: (INTO PHONE) Listen you little puke. One of these days I'm gonna catch you, and I'm gonna carve my name on your back with an ice pick.\n",
      "Moe_Szyslak: What's the matter Homer? You're not your normal effervescent self.\n",
      "Homer_Simpson: I got my problems, Moe. Give me another one.\n",
      "Moe_Szyslak: Homer, hey, you should not drink to forget your problems.\n",
      "Barney_Gumble: Yeah, you should only drink to enhance your social skills.\n",
      "\n",
      "\n"
     ]
    }
   ],
   "source": [
    "view_sentence_range = (0, 10)\n",
    "\n",
    "\"\"\"\n",
    "DON'T MODIFY ANYTHING IN THIS CELL\n",
    "\"\"\"\n",
    "import numpy as np\n",
    "\n",
    "print('Dataset Stats')\n",
    "print('Roughly the number of unique words: {}'.format(len({word: None for word in text.split()})))\n",
    "scenes = text.split('\\n\\n')\n",
    "print('Number of scenes: {}'.format(len(scenes)))\n",
    "sentence_count_scene = [scene.count('\\n') for scene in scenes]\n",
    "print('Average number of sentences in each scene: {}'.format(np.average(sentence_count_scene)))\n",
    "\n",
    "sentences = [sentence for scene in scenes for sentence in scene.split('\\n')]\n",
    "print('Number of lines: {}'.format(len(sentences)))\n",
    "word_count_sentence = [len(sentence.split()) for sentence in sentences]\n",
    "print('Average number of words in each line: {}'.format(np.average(word_count_sentence)))\n",
    "\n",
    "print()\n",
    "print('The sentences {} to {}:'.format(*view_sentence_range))\n",
    "print('\\n'.join(text.split('\\n')[view_sentence_range[0]:view_sentence_range[1]]))"
   ]
  },
  {
   "cell_type": "markdown",
   "metadata": {},
   "source": [
    "## Implement Preprocessing Functions\n",
    "The first thing to do to any dataset is preprocessing.  Implement the following preprocessing functions below:\n",
    "- Lookup Table\n",
    "- Tokenize Punctuation\n",
    "\n",
    "### Lookup Table\n",
    "To create a word embedding, you first need to transform the words to ids.  In this function, create two dictionaries:\n",
    "- Dictionary to go from the words to an id, we'll call `vocab_to_int`\n",
    "- Dictionary to go from the id to word, we'll call `int_to_vocab`\n",
    "\n",
    "Return these dictionaries in the following tuple `(vocab_to_int, int_to_vocab)`"
   ]
  },
  {
   "cell_type": "code",
   "execution_count": 3,
   "metadata": {},
   "outputs": [
    {
     "name": "stdout",
     "output_type": "stream",
     "text": [
      "Tests Passed\n"
     ]
    }
   ],
   "source": [
    "import numpy as np\n",
    "import problem_unittests as tests\n",
    "\n",
    "def create_lookup_tables(text):\n",
    "    \"\"\"\n",
    "    Create lookup tables for vocabulary\n",
    "    :param text: The text of tv scripts split into words\n",
    "    :return: A tuple of dicts (vocab_to_int, int_to_vocab)\n",
    "    \"\"\"\n",
    "    # TODO: Implement Function\n",
    "    vocab=set(text)\n",
    "    vocab_to_int = {word: ii for ii, word in enumerate(vocab, 0)}\n",
    "    \n",
    "    int_to_vocab = dict(enumerate(vocab,0))\n",
    "    \n",
    "    return vocab_to_int, int_to_vocab\n",
    "    #return None, None\n",
    "\n",
    "\n",
    "\"\"\"\n",
    "DON'T MODIFY ANYTHING IN THIS CELL THAT IS BELOW THIS LINE\n",
    "\"\"\"\n",
    "tests.test_create_lookup_tables(create_lookup_tables)"
   ]
  },
  {
   "cell_type": "markdown",
   "metadata": {},
   "source": [
    "### Tokenize Punctuation\n",
    "We'll be splitting the script into a word array using spaces as delimiters.  However, punctuations like periods and exclamation marks make it hard for the neural network to distinguish between the word \"bye\" and \"bye!\".\n",
    "\n",
    "Implement the function `token_lookup` to return a dict that will be used to tokenize symbols like \"!\" into \"||Exclamation_Mark||\".  Create a dictionary for the following symbols where the symbol is the key and value is the token:\n",
    "- Period ( . )\n",
    "- Comma ( , )\n",
    "- Quotation Mark ( \" )\n",
    "- Semicolon ( ; )\n",
    "- Exclamation mark ( ! )\n",
    "- Question mark ( ? )\n",
    "- Left Parentheses ( ( )\n",
    "- Right Parentheses ( ) )\n",
    "- Dash ( -- )\n",
    "- Return ( \\n )\n",
    "\n",
    "This dictionary will be used to token the symbols and add the delimiter (space) around it.  This separates the symbols as it's own word, making it easier for the neural network to predict on the next word. Make sure you don't use a token that could be confused as a word. Instead of using the token \"dash\", try using something like \"||dash||\"."
   ]
  },
  {
   "cell_type": "code",
   "execution_count": 4,
   "metadata": {},
   "outputs": [
    {
     "name": "stdout",
     "output_type": "stream",
     "text": [
      "Tests Passed\n"
     ]
    }
   ],
   "source": [
    "def token_lookup():\n",
    "    \"\"\"\n",
    "    Generate a dict to turn punctuation into a token.\n",
    "    :return: Tokenize dictionary where the key is the punctuation and the value is the token\n",
    "    \"\"\"\n",
    "    # TODO: Implement Function\n",
    "    punct_token={'.': '||Period||', ',': '||Comma||','\"':'||Quotation_Mark||',';':'||Semicolon||','!':'||Exclamation_Mark||', \n",
    "                '?':'||Question_Mark||', '(':'||Left_Parentheses||', ')':'||Right_Parentheses||',\n",
    "                '--':'||Dash||', '\\n':'||Return||'}\n",
    "    return punct_token    \n",
    "    #return None\n",
    "\n",
    "\"\"\"\n",
    "DON'T MODIFY ANYTHING IN THIS CELL THAT IS BELOW THIS LINE\n",
    "\"\"\"\n",
    "tests.test_tokenize(token_lookup)"
   ]
  },
  {
   "cell_type": "markdown",
   "metadata": {},
   "source": [
    "## Preprocess all the data and save it\n",
    "Running the code cell below will preprocess all the data and save it to file."
   ]
  },
  {
   "cell_type": "code",
   "execution_count": 5,
   "metadata": {
    "collapsed": true
   },
   "outputs": [],
   "source": [
    "\"\"\"\n",
    "DON'T MODIFY ANYTHING IN THIS CELL\n",
    "\"\"\"\n",
    "# Preprocess Training, Validation, and Testing Data\n",
    "helper.preprocess_and_save_data(data_dir, token_lookup, create_lookup_tables)"
   ]
  },
  {
   "cell_type": "markdown",
   "metadata": {},
   "source": [
    "# Check Point\n",
    "This is your first checkpoint. If you ever decide to come back to this notebook or have to restart the notebook, you can start from here. The preprocessed data has been saved to disk."
   ]
  },
  {
   "cell_type": "code",
   "execution_count": 6,
   "metadata": {
    "collapsed": true
   },
   "outputs": [],
   "source": [
    "\"\"\"\n",
    "DON'T MODIFY ANYTHING IN THIS CELL\n",
    "\"\"\"\n",
    "import helper\n",
    "import numpy as np\n",
    "import problem_unittests as tests\n",
    "\n",
    "int_text, vocab_to_int, int_to_vocab, token_dict = helper.load_preprocess()"
   ]
  },
  {
   "cell_type": "markdown",
   "metadata": {},
   "source": [
    "## Build the Neural Network\n",
    "You'll build the components necessary to build a RNN by implementing the following functions below:\n",
    "- get_inputs\n",
    "- get_init_cell\n",
    "- get_embed\n",
    "- build_rnn\n",
    "- build_nn\n",
    "- get_batches\n",
    "\n",
    "### Check the Version of TensorFlow and Access to GPU"
   ]
  },
  {
   "cell_type": "code",
   "execution_count": 7,
   "metadata": {},
   "outputs": [
    {
     "name": "stdout",
     "output_type": "stream",
     "text": [
      "TensorFlow Version: 1.3.0\n",
      "Default GPU Device: /gpu:0\n"
     ]
    }
   ],
   "source": [
    "\"\"\"\n",
    "DON'T MODIFY ANYTHING IN THIS CELL\n",
    "\"\"\"\n",
    "from distutils.version import LooseVersion\n",
    "import warnings\n",
    "import tensorflow as tf\n",
    "\n",
    "# Check TensorFlow Version\n",
    "assert LooseVersion(tf.__version__) >= LooseVersion('1.3'), 'Please use TensorFlow version 1.3 or newer'\n",
    "print('TensorFlow Version: {}'.format(tf.__version__))\n",
    "\n",
    "# Check for a GPU\n",
    "if not tf.test.gpu_device_name():\n",
    "    warnings.warn('No GPU found. Please use a GPU to train your neural network.')\n",
    "else:\n",
    "    print('Default GPU Device: {}'.format(tf.test.gpu_device_name()))"
   ]
  },
  {
   "cell_type": "markdown",
   "metadata": {},
   "source": [
    "### Input\n",
    "Implement the `get_inputs()` function to create TF Placeholders for the Neural Network.  It should create the following placeholders:\n",
    "- Input text placeholder named \"input\" using the [TF Placeholder](https://www.tensorflow.org/api_docs/python/tf/placeholder) `name` parameter.\n",
    "- Targets placeholder\n",
    "- Learning Rate placeholder\n",
    "\n",
    "Return the placeholders in the following tuple `(Input, Targets, LearningRate)`"
   ]
  },
  {
   "cell_type": "code",
   "execution_count": 8,
   "metadata": {},
   "outputs": [
    {
     "name": "stdout",
     "output_type": "stream",
     "text": [
      "Tests Passed\n"
     ]
    }
   ],
   "source": [
    "def get_inputs():\n",
    "    \"\"\"\n",
    "    Create TF Placeholders for input, targets, and learning rate.\n",
    "    :return: Tuple (input, targets, learning rate)\n",
    "    \"\"\"\n",
    "    # TODO: Implement Function\n",
    "    input = tf.placeholder(tf.int32, [None, None], name='input')\n",
    "    Targets = tf.placeholder(tf.int32, [None, None], name='Targets')\n",
    "    LearningRate = tf.placeholder(tf.float32, name='LearningRate')\n",
    "    return input, Targets, LearningRate    \n",
    "    #return None, None, None\n",
    "\n",
    "\n",
    "\"\"\"\n",
    "DON'T MODIFY ANYTHING IN THIS CELL THAT IS BELOW THIS LINE\n",
    "\"\"\"\n",
    "tests.test_get_inputs(get_inputs)"
   ]
  },
  {
   "cell_type": "markdown",
   "metadata": {},
   "source": [
    "### Build RNN Cell and Initialize\n",
    "Stack one or more [`BasicLSTMCells`](https://www.tensorflow.org/api_docs/python/tf/contrib/rnn/BasicLSTMCell) in a [`MultiRNNCell`](https://www.tensorflow.org/api_docs/python/tf/contrib/rnn/MultiRNNCell).\n",
    "- The Rnn size should be set using `rnn_size`\n",
    "- Initalize Cell State using the MultiRNNCell's [`zero_state()`](https://www.tensorflow.org/api_docs/python/tf/contrib/rnn/MultiRNNCell#zero_state) function\n",
    "    - Apply the name \"initial_state\" to the initial state using [`tf.identity()`](https://www.tensorflow.org/api_docs/python/tf/identity)\n",
    "\n",
    "Return the cell and initial state in the following tuple `(Cell, InitialState)`"
   ]
  },
  {
   "cell_type": "code",
   "execution_count": 9,
   "metadata": {},
   "outputs": [
    {
     "name": "stdout",
     "output_type": "stream",
     "text": [
      "Tests Passed\n"
     ]
    }
   ],
   "source": [
    "def get_init_cell(batch_size, rnn_size):\n",
    "    \"\"\"\n",
    "    Create an RNN Cell and initialize it.\n",
    "    :param batch_size: Size of batches\n",
    "    :param rnn_size: Size of RNNs\n",
    "    :return: Tuple (cell, initialize state)\n",
    "    \"\"\"\n",
    "    # TODO: Implement Function\n",
    "    lstm = tf.contrib.rnn.BasicLSTMCell(rnn_size)\n",
    "    cell = tf.contrib.rnn.MultiRNNCell([lstm]*1)\n",
    "    initial_state = cell.zero_state(batch_size, tf.float32)\n",
    "    initial_state=tf.identity(initial_state,name='initial_state')\n",
    "    return cell, initial_state\n",
    "    #return None, None\n",
    "\n",
    "\n",
    "\"\"\"\n",
    "DON'T MODIFY ANYTHING IN THIS CELL THAT IS BELOW THIS LINE\n",
    "\"\"\"\n",
    "tests.test_get_init_cell(get_init_cell)"
   ]
  },
  {
   "cell_type": "markdown",
   "metadata": {},
   "source": [
    "### Word Embedding\n",
    "Apply embedding to `input_data` using TensorFlow.  Return the embedded sequence."
   ]
  },
  {
   "cell_type": "code",
   "execution_count": 10,
   "metadata": {},
   "outputs": [
    {
     "name": "stdout",
     "output_type": "stream",
     "text": [
      "Tests Passed\n"
     ]
    }
   ],
   "source": [
    "def get_embed(input_data, vocab_size, embed_dim):\n",
    "    \"\"\"\n",
    "    Create embedding for <input_data>.\n",
    "    :param input_data: TF placeholder for text input.\n",
    "    :param vocab_size: Number of words in vocabulary.\n",
    "    :param embed_dim: Number of embedding dimensions\n",
    "    :return: Embedded input.\n",
    "    \"\"\"\n",
    "    # TODO: Implement Function\n",
    "    embedding = tf.Variable(tf.random_uniform((vocab_size, embed_dim), -1, 1))\n",
    "    embed = tf.nn.embedding_lookup(embedding, input_data)\n",
    "    return embed\n",
    "    #return None\n",
    "\n",
    "\n",
    "\"\"\"\n",
    "DON'T MODIFY ANYTHING IN THIS CELL THAT IS BELOW THIS LINE\n",
    "\"\"\"\n",
    "tests.test_get_embed(get_embed)"
   ]
  },
  {
   "cell_type": "markdown",
   "metadata": {},
   "source": [
    "### Build RNN\n",
    "You created a RNN Cell in the `get_init_cell()` function.  Time to use the cell to create a RNN.\n",
    "- Build the RNN using the [`tf.nn.dynamic_rnn()`](https://www.tensorflow.org/api_docs/python/tf/nn/dynamic_rnn)\n",
    " - Apply the name \"final_state\" to the final state using [`tf.identity()`](https://www.tensorflow.org/api_docs/python/tf/identity)\n",
    "\n",
    "Return the outputs and final_state state in the following tuple `(Outputs, FinalState)` "
   ]
  },
  {
   "cell_type": "code",
   "execution_count": 11,
   "metadata": {},
   "outputs": [
    {
     "name": "stdout",
     "output_type": "stream",
     "text": [
      "Tests Passed\n"
     ]
    }
   ],
   "source": [
    "def build_rnn(cell, inputs):\n",
    "    \"\"\"\n",
    "    Create a RNN using a RNN Cell\n",
    "    :param cell: RNN Cell\n",
    "    :param inputs: Input text data\n",
    "    :return: Tuple (Outputs, Final State)\n",
    "    \"\"\"\n",
    "    # TODO: Implement Function\n",
    "    outputs, final_state = tf.nn.dynamic_rnn(cell, inputs, dtype='float32')\n",
    "    final_state=tf.identity(final_state,name='final_state')\n",
    "    return outputs, final_state\n",
    "    #return None, None\n",
    "\n",
    "\n",
    "\"\"\"\n",
    "DON'T MODIFY ANYTHING IN THIS CELL THAT IS BELOW THIS LINE\n",
    "\"\"\"\n",
    "tests.test_build_rnn(build_rnn)"
   ]
  },
  {
   "cell_type": "markdown",
   "metadata": {},
   "source": [
    "### Build the Neural Network\n",
    "Apply the functions you implemented above to:\n",
    "- Apply embedding to `input_data` using your `get_embed(input_data, vocab_size, embed_dim)` function.\n",
    "- Build RNN using `cell` and your `build_rnn(cell, inputs)` function.\n",
    "- Apply a fully connected layer with a linear activation and `vocab_size` as the number of outputs.\n",
    "\n",
    "Return the logits and final state in the following tuple (Logits, FinalState) "
   ]
  },
  {
   "cell_type": "code",
   "execution_count": 12,
   "metadata": {},
   "outputs": [
    {
     "name": "stdout",
     "output_type": "stream",
     "text": [
      "Tests Passed\n"
     ]
    }
   ],
   "source": [
    "def build_nn(cell, rnn_size, input_data, vocab_size, embed_dim):\n",
    "    \"\"\"\n",
    "    Build part of the neural network\n",
    "    :param cell: RNN cell\n",
    "    :param rnn_size: Size of rnns\n",
    "    :param input_data: Input data\n",
    "    :param vocab_size: Vocabulary size\n",
    "    :param embed_dim: Number of embedding dimensions\n",
    "    :return: Tuple (Logits, FinalState)\n",
    "    \"\"\"\n",
    "    # TODO: Implement Function\n",
    "    embed=get_embed(input_data, vocab_size, embed_dim)\n",
    "    outputs, final_state=build_rnn(cell, embed)\n",
    "    Logits = tf.contrib.layers.fully_connected(outputs, vocab_size, activation_fn=None)\n",
    "    return Logits,final_state\n",
    "    #return None, None\n",
    "\n",
    "\n",
    "\"\"\"\n",
    "DON'T MODIFY ANYTHING IN THIS CELL THAT IS BELOW THIS LINE\n",
    "\"\"\"\n",
    "tests.test_build_nn(build_nn)"
   ]
  },
  {
   "cell_type": "markdown",
   "metadata": {},
   "source": [
    "### Batches\n",
    "Implement `get_batches` to create batches of input and targets using `int_text`.  The batches should be a Numpy array with the shape `(number of batches, 2, batch size, sequence length)`. Each batch contains two elements:\n",
    "- The first element is a single batch of **input** with the shape `[batch size, sequence length]`\n",
    "- The second element is a single batch of **targets** with the shape `[batch size, sequence length]`\n",
    "\n",
    "If you can't fill the last batch with enough data, drop the last batch.\n",
    "\n",
    "For example, `get_batches([1, 2, 3, 4, 5, 6, 7, 8, 9, 10, 11, 12, 13, 14, 15, 16, 17, 18, 19, 20], 3, 2)` would return a Numpy array of the following:\n",
    "```\n",
    "[\n",
    "  # First Batch\n",
    "  [\n",
    "    # Batch of Input\n",
    "    [[ 1  2], [ 7  8], [13 14]]\n",
    "    # Batch of targets\n",
    "    [[ 2  3], [ 8  9], [14 15]]\n",
    "  ]\n",
    "\n",
    "  # Second Batch\n",
    "  [\n",
    "    # Batch of Input\n",
    "    [[ 3  4], [ 9 10], [15 16]]\n",
    "    # Batch of targets\n",
    "    [[ 4  5], [10 11], [16 17]]\n",
    "  ]\n",
    "\n",
    "  # Third Batch\n",
    "  [\n",
    "    # Batch of Input\n",
    "    [[ 5  6], [11 12], [17 18]]\n",
    "    # Batch of targets\n",
    "    [[ 6  7], [12 13], [18  1]]\n",
    "  ]\n",
    "]\n",
    "```\n",
    "\n",
    "Notice that the last target value in the last batch is the first input value of the first batch. In this case, `1`. This is a common technique used when creating sequence batches, although it is rather unintuitive."
   ]
  },
  {
   "cell_type": "code",
   "execution_count": 13,
   "metadata": {},
   "outputs": [
    {
     "name": "stdout",
     "output_type": "stream",
     "text": [
      "Tests Passed\n"
     ]
    }
   ],
   "source": [
    "def get_batches(int_text, batch_size, seq_length):\n",
    "    \"\"\"\n",
    "    Return batches of input and target\n",
    "    :param int_text: Text with the words replaced by their ids\n",
    "    :param batch_size: The size of batch\n",
    "    :param seq_length: The length of sequence\n",
    "    :return: Batches as a Numpy array\n",
    "    \"\"\"\n",
    "    # TODO: Implement Function\n",
    "    int_text=np.array(int_text)\n",
    "    n_batches = len(int_text)//(batch_size*seq_length)\n",
    "    int_text_trunc = int_text[:n_batches * batch_size*seq_length]\n",
    "    int_text_trunc_shift=np.roll(int_text_trunc, -1)\n",
    "\n",
    "    int_text_trunc=int_text_trunc.reshape(-1,seq_length)\n",
    "    int_text_trunc_shift=int_text_trunc_shift.reshape(-1,seq_length)\n",
    "\n",
    "    int_text_trunc_new=np.zeros((n_batches, 2, batch_size, seq_length))\n",
    "\n",
    "    for ii in range(0,n_batches):\n",
    "        for kk in range(0,batch_size):\n",
    "            int_text_trunc_new[ii,0,kk,:]=int_text_trunc[ii+kk*n_batches,:]\n",
    "        for kk in range(0,batch_size):\n",
    "            int_text_trunc_new[ii,1, kk,:]=int_text_trunc_shift[ii+kk*n_batches,:]\n",
    "\n",
    "    int_text_trunc_new=int_text_trunc_new.astype(int) \n",
    "    return int_text_trunc_new\n",
    "    #return None\n",
    "\n",
    "\n",
    "\"\"\"\n",
    "DON'T MODIFY ANYTHING IN THIS CELL THAT IS BELOW THIS LINE\n",
    "\"\"\"\n",
    "tests.test_get_batches(get_batches)"
   ]
  },
  {
   "cell_type": "markdown",
   "metadata": {},
   "source": [
    "## Neural Network Training\n",
    "### Hyperparameters\n",
    "Tune the following parameters:\n",
    "\n",
    "- Set `num_epochs` to the number of epochs.\n",
    "- Set `batch_size` to the batch size.\n",
    "- Set `rnn_size` to the size of the RNNs.\n",
    "- Set `embed_dim` to the size of the embedding.\n",
    "- Set `seq_length` to the length of sequence.\n",
    "- Set `learning_rate` to the learning rate.\n",
    "- Set `show_every_n_batches` to the number of batches the neural network should print progress."
   ]
  },
  {
   "cell_type": "code",
   "execution_count": 14,
   "metadata": {
    "collapsed": true
   },
   "outputs": [],
   "source": [
    "# Number of Epochs\n",
    "num_epochs = 100\n",
    "# Batch Size\n",
    "batch_size = 100\n",
    "# RNN Size\n",
    "rnn_size = 512\n",
    "# Embedding Dimension Size\n",
    "embed_dim = 256\n",
    "# Sequence Length\n",
    "seq_length = 10\n",
    "# Learning Rate\n",
    "learning_rate = 0.001\n",
    "# Show stats for every n number of batches\n",
    "show_every_n_batches = 20\n",
    "\n",
    "\"\"\"\n",
    "DON'T MODIFY ANYTHING IN THIS CELL THAT IS BELOW THIS LINE\n",
    "\"\"\"\n",
    "save_dir = './save'"
   ]
  },
  {
   "cell_type": "markdown",
   "metadata": {},
   "source": [
    "### Build the Graph\n",
    "Build the graph using the neural network you implemented."
   ]
  },
  {
   "cell_type": "code",
   "execution_count": 15,
   "metadata": {
    "collapsed": true
   },
   "outputs": [],
   "source": [
    "\"\"\"\n",
    "DON'T MODIFY ANYTHING IN THIS CELL\n",
    "\"\"\"\n",
    "from tensorflow.contrib import seq2seq\n",
    "\n",
    "train_graph = tf.Graph()\n",
    "with train_graph.as_default():\n",
    "    vocab_size = len(int_to_vocab)\n",
    "    input_text, targets, lr = get_inputs()\n",
    "    input_data_shape = tf.shape(input_text)\n",
    "    cell, initial_state = get_init_cell(input_data_shape[0], rnn_size)\n",
    "    logits, final_state = build_nn(cell, rnn_size, input_text, vocab_size, embed_dim)\n",
    "\n",
    "    # Probabilities for generating words\n",
    "    probs = tf.nn.softmax(logits, name='probs')\n",
    "\n",
    "    # Loss function\n",
    "    cost = seq2seq.sequence_loss(\n",
    "        logits,\n",
    "        targets,\n",
    "        tf.ones([input_data_shape[0], input_data_shape[1]]))\n",
    "\n",
    "    # Optimizer\n",
    "    optimizer = tf.train.AdamOptimizer(lr)\n",
    "\n",
    "    # Gradient Clipping\n",
    "    gradients = optimizer.compute_gradients(cost)\n",
    "    capped_gradients = [(tf.clip_by_value(grad, -1., 1.), var) for grad, var in gradients if grad is not None]\n",
    "    train_op = optimizer.apply_gradients(capped_gradients)"
   ]
  },
  {
   "cell_type": "markdown",
   "metadata": {},
   "source": [
    "## Train\n",
    "Train the neural network on the preprocessed data.  If you have a hard time getting a good loss, check the [forums](https://discussions.udacity.com/) to see if anyone is having the same problem."
   ]
  },
  {
   "cell_type": "code",
   "execution_count": 16,
   "metadata": {},
   "outputs": [
    {
     "name": "stdout",
     "output_type": "stream",
     "text": [
      "Epoch   0 Batch    0/69   train_loss = 8.822\n",
      "Epoch   0 Batch   20/69   train_loss = 6.698\n",
      "Epoch   0 Batch   40/69   train_loss = 6.211\n",
      "Epoch   0 Batch   60/69   train_loss = 6.025\n",
      "Epoch   1 Batch   11/69   train_loss = 5.498\n",
      "Epoch   1 Batch   31/69   train_loss = 5.570\n",
      "Epoch   1 Batch   51/69   train_loss = 5.528\n",
      "Epoch   2 Batch    2/69   train_loss = 5.318\n",
      "Epoch   2 Batch   22/69   train_loss = 5.321\n",
      "Epoch   2 Batch   42/69   train_loss = 4.857\n",
      "Epoch   2 Batch   62/69   train_loss = 4.892\n",
      "Epoch   3 Batch   13/69   train_loss = 5.045\n",
      "Epoch   3 Batch   33/69   train_loss = 5.114\n",
      "Epoch   3 Batch   53/69   train_loss = 4.698\n",
      "Epoch   4 Batch    4/69   train_loss = 4.811\n",
      "Epoch   4 Batch   24/69   train_loss = 4.660\n",
      "Epoch   4 Batch   44/69   train_loss = 4.626\n",
      "Epoch   4 Batch   64/69   train_loss = 4.611\n",
      "Epoch   5 Batch   15/69   train_loss = 4.614\n",
      "Epoch   5 Batch   35/69   train_loss = 4.575\n",
      "Epoch   5 Batch   55/69   train_loss = 4.334\n",
      "Epoch   6 Batch    6/69   train_loss = 4.473\n",
      "Epoch   6 Batch   26/69   train_loss = 4.309\n",
      "Epoch   6 Batch   46/69   train_loss = 4.400\n",
      "Epoch   6 Batch   66/69   train_loss = 4.255\n",
      "Epoch   7 Batch   17/69   train_loss = 4.255\n",
      "Epoch   7 Batch   37/69   train_loss = 4.116\n",
      "Epoch   7 Batch   57/69   train_loss = 4.025\n",
      "Epoch   8 Batch    8/69   train_loss = 3.994\n",
      "Epoch   8 Batch   28/69   train_loss = 3.845\n",
      "Epoch   8 Batch   48/69   train_loss = 4.084\n",
      "Epoch   8 Batch   68/69   train_loss = 4.024\n",
      "Epoch   9 Batch   19/69   train_loss = 4.087\n",
      "Epoch   9 Batch   39/69   train_loss = 3.965\n",
      "Epoch   9 Batch   59/69   train_loss = 3.754\n",
      "Epoch  10 Batch   10/69   train_loss = 3.825\n",
      "Epoch  10 Batch   30/69   train_loss = 3.755\n",
      "Epoch  10 Batch   50/69   train_loss = 3.693\n",
      "Epoch  11 Batch    1/69   train_loss = 3.640\n",
      "Epoch  11 Batch   21/69   train_loss = 3.615\n",
      "Epoch  11 Batch   41/69   train_loss = 3.662\n",
      "Epoch  11 Batch   61/69   train_loss = 3.598\n",
      "Epoch  12 Batch   12/69   train_loss = 3.484\n",
      "Epoch  12 Batch   32/69   train_loss = 3.453\n",
      "Epoch  12 Batch   52/69   train_loss = 3.321\n",
      "Epoch  13 Batch    3/69   train_loss = 3.261\n",
      "Epoch  13 Batch   23/69   train_loss = 3.347\n",
      "Epoch  13 Batch   43/69   train_loss = 3.379\n",
      "Epoch  13 Batch   63/69   train_loss = 3.251\n",
      "Epoch  14 Batch   14/69   train_loss = 3.211\n",
      "Epoch  14 Batch   34/69   train_loss = 3.238\n",
      "Epoch  14 Batch   54/69   train_loss = 3.189\n",
      "Epoch  15 Batch    5/69   train_loss = 3.085\n",
      "Epoch  15 Batch   25/69   train_loss = 3.082\n",
      "Epoch  15 Batch   45/69   train_loss = 3.114\n",
      "Epoch  15 Batch   65/69   train_loss = 3.007\n",
      "Epoch  16 Batch   16/69   train_loss = 3.087\n",
      "Epoch  16 Batch   36/69   train_loss = 2.876\n",
      "Epoch  16 Batch   56/69   train_loss = 2.995\n",
      "Epoch  17 Batch    7/69   train_loss = 2.823\n",
      "Epoch  17 Batch   27/69   train_loss = 2.784\n",
      "Epoch  17 Batch   47/69   train_loss = 2.774\n",
      "Epoch  17 Batch   67/69   train_loss = 2.790\n",
      "Epoch  18 Batch   18/69   train_loss = 2.686\n",
      "Epoch  18 Batch   38/69   train_loss = 2.583\n",
      "Epoch  18 Batch   58/69   train_loss = 2.733\n",
      "Epoch  19 Batch    9/69   train_loss = 2.672\n",
      "Epoch  19 Batch   29/69   train_loss = 2.508\n",
      "Epoch  19 Batch   49/69   train_loss = 2.540\n",
      "Epoch  20 Batch    0/69   train_loss = 2.541\n",
      "Epoch  20 Batch   20/69   train_loss = 2.575\n",
      "Epoch  20 Batch   40/69   train_loss = 2.403\n",
      "Epoch  20 Batch   60/69   train_loss = 2.455\n",
      "Epoch  21 Batch   11/69   train_loss = 2.415\n",
      "Epoch  21 Batch   31/69   train_loss = 2.368\n",
      "Epoch  21 Batch   51/69   train_loss = 2.258\n",
      "Epoch  22 Batch    2/69   train_loss = 2.354\n",
      "Epoch  22 Batch   22/69   train_loss = 2.361\n",
      "Epoch  22 Batch   42/69   train_loss = 2.336\n",
      "Epoch  22 Batch   62/69   train_loss = 2.195\n",
      "Epoch  23 Batch   13/69   train_loss = 2.164\n",
      "Epoch  23 Batch   33/69   train_loss = 2.188\n",
      "Epoch  23 Batch   53/69   train_loss = 2.134\n",
      "Epoch  24 Batch    4/69   train_loss = 2.142\n",
      "Epoch  24 Batch   24/69   train_loss = 2.036\n",
      "Epoch  24 Batch   44/69   train_loss = 2.119\n",
      "Epoch  24 Batch   64/69   train_loss = 2.149\n",
      "Epoch  25 Batch   15/69   train_loss = 2.106\n",
      "Epoch  25 Batch   35/69   train_loss = 2.025\n",
      "Epoch  25 Batch   55/69   train_loss = 1.950\n",
      "Epoch  26 Batch    6/69   train_loss = 1.974\n",
      "Epoch  26 Batch   26/69   train_loss = 1.975\n",
      "Epoch  26 Batch   46/69   train_loss = 1.844\n",
      "Epoch  26 Batch   66/69   train_loss = 1.910\n",
      "Epoch  27 Batch   17/69   train_loss = 1.753\n",
      "Epoch  27 Batch   37/69   train_loss = 1.815\n",
      "Epoch  27 Batch   57/69   train_loss = 1.832\n",
      "Epoch  28 Batch    8/69   train_loss = 1.793\n",
      "Epoch  28 Batch   28/69   train_loss = 1.841\n",
      "Epoch  28 Batch   48/69   train_loss = 1.653\n",
      "Epoch  28 Batch   68/69   train_loss = 1.756\n",
      "Epoch  29 Batch   19/69   train_loss = 1.762\n",
      "Epoch  29 Batch   39/69   train_loss = 1.681\n",
      "Epoch  29 Batch   59/69   train_loss = 1.633\n",
      "Epoch  30 Batch   10/69   train_loss = 1.564\n",
      "Epoch  30 Batch   30/69   train_loss = 1.680\n",
      "Epoch  30 Batch   50/69   train_loss = 1.616\n",
      "Epoch  31 Batch    1/69   train_loss = 1.659\n",
      "Epoch  31 Batch   21/69   train_loss = 1.542\n",
      "Epoch  31 Batch   41/69   train_loss = 1.544\n",
      "Epoch  31 Batch   61/69   train_loss = 1.485\n",
      "Epoch  32 Batch   12/69   train_loss = 1.567\n",
      "Epoch  32 Batch   32/69   train_loss = 1.519\n",
      "Epoch  32 Batch   52/69   train_loss = 1.476\n",
      "Epoch  33 Batch    3/69   train_loss = 1.408\n",
      "Epoch  33 Batch   23/69   train_loss = 1.434\n",
      "Epoch  33 Batch   43/69   train_loss = 1.364\n",
      "Epoch  33 Batch   63/69   train_loss = 1.445\n",
      "Epoch  34 Batch   14/69   train_loss = 1.392\n",
      "Epoch  34 Batch   34/69   train_loss = 1.289\n",
      "Epoch  34 Batch   54/69   train_loss = 1.291\n",
      "Epoch  35 Batch    5/69   train_loss = 1.327\n",
      "Epoch  35 Batch   25/69   train_loss = 1.313\n",
      "Epoch  35 Batch   45/69   train_loss = 1.211\n",
      "Epoch  35 Batch   65/69   train_loss = 1.288\n",
      "Epoch  36 Batch   16/69   train_loss = 1.207\n",
      "Epoch  36 Batch   36/69   train_loss = 1.086\n",
      "Epoch  36 Batch   56/69   train_loss = 1.169\n",
      "Epoch  37 Batch    7/69   train_loss = 1.164\n",
      "Epoch  37 Batch   27/69   train_loss = 1.123\n",
      "Epoch  37 Batch   47/69   train_loss = 1.048\n",
      "Epoch  37 Batch   67/69   train_loss = 1.057\n",
      "Epoch  38 Batch   18/69   train_loss = 1.084\n",
      "Epoch  38 Batch   38/69   train_loss = 1.057\n",
      "Epoch  38 Batch   58/69   train_loss = 0.958\n",
      "Epoch  39 Batch    9/69   train_loss = 1.074\n",
      "Epoch  39 Batch   29/69   train_loss = 1.060\n",
      "Epoch  39 Batch   49/69   train_loss = 0.869\n",
      "Epoch  40 Batch    0/69   train_loss = 1.011\n",
      "Epoch  40 Batch   20/69   train_loss = 0.987\n",
      "Epoch  40 Batch   40/69   train_loss = 0.938\n",
      "Epoch  40 Batch   60/69   train_loss = 0.891\n",
      "Epoch  41 Batch   11/69   train_loss = 0.954\n",
      "Epoch  41 Batch   31/69   train_loss = 0.953\n",
      "Epoch  41 Batch   51/69   train_loss = 0.789\n",
      "Epoch  42 Batch    2/69   train_loss = 0.912\n",
      "Epoch  42 Batch   22/69   train_loss = 0.907\n",
      "Epoch  42 Batch   42/69   train_loss = 0.992\n",
      "Epoch  42 Batch   62/69   train_loss = 0.831\n",
      "Epoch  43 Batch   13/69   train_loss = 0.813\n",
      "Epoch  43 Batch   33/69   train_loss = 0.846\n",
      "Epoch  43 Batch   53/69   train_loss = 0.819\n",
      "Epoch  44 Batch    4/69   train_loss = 0.756\n",
      "Epoch  44 Batch   24/69   train_loss = 0.770\n",
      "Epoch  44 Batch   44/69   train_loss = 0.796\n",
      "Epoch  44 Batch   64/69   train_loss = 0.757\n",
      "Epoch  45 Batch   15/69   train_loss = 0.844\n",
      "Epoch  45 Batch   35/69   train_loss = 0.763\n",
      "Epoch  45 Batch   55/69   train_loss = 0.743\n",
      "Epoch  46 Batch    6/69   train_loss = 0.701\n",
      "Epoch  46 Batch   26/69   train_loss = 0.770\n",
      "Epoch  46 Batch   46/69   train_loss = 0.728\n",
      "Epoch  46 Batch   66/69   train_loss = 0.692\n",
      "Epoch  47 Batch   17/69   train_loss = 0.622\n",
      "Epoch  47 Batch   37/69   train_loss = 0.705\n",
      "Epoch  47 Batch   57/69   train_loss = 0.672\n",
      "Epoch  48 Batch    8/69   train_loss = 0.682\n",
      "Epoch  48 Batch   28/69   train_loss = 0.692\n",
      "Epoch  48 Batch   48/69   train_loss = 0.609\n",
      "Epoch  48 Batch   68/69   train_loss = 0.680\n",
      "Epoch  49 Batch   19/69   train_loss = 0.634\n",
      "Epoch  49 Batch   39/69   train_loss = 0.641\n",
      "Epoch  49 Batch   59/69   train_loss = 0.617\n",
      "Epoch  50 Batch   10/69   train_loss = 0.594\n",
      "Epoch  50 Batch   30/69   train_loss = 0.691\n",
      "Epoch  50 Batch   50/69   train_loss = 0.628\n",
      "Epoch  51 Batch    1/69   train_loss = 0.605\n",
      "Epoch  51 Batch   21/69   train_loss = 0.585\n",
      "Epoch  51 Batch   41/69   train_loss = 0.577\n",
      "Epoch  51 Batch   61/69   train_loss = 0.487\n",
      "Epoch  52 Batch   12/69   train_loss = 0.612\n",
      "Epoch  52 Batch   32/69   train_loss = 0.549\n",
      "Epoch  52 Batch   52/69   train_loss = 0.584\n",
      "Epoch  53 Batch    3/69   train_loss = 0.511\n",
      "Epoch  53 Batch   23/69   train_loss = 0.537\n",
      "Epoch  53 Batch   43/69   train_loss = 0.571\n",
      "Epoch  53 Batch   63/69   train_loss = 0.565\n",
      "Epoch  54 Batch   14/69   train_loss = 0.526\n",
      "Epoch  54 Batch   34/69   train_loss = 0.538\n",
      "Epoch  54 Batch   54/69   train_loss = 0.488\n",
      "Epoch  55 Batch    5/69   train_loss = 0.542\n",
      "Epoch  55 Batch   25/69   train_loss = 0.547\n",
      "Epoch  55 Batch   45/69   train_loss = 0.517\n",
      "Epoch  55 Batch   65/69   train_loss = 0.530\n",
      "Epoch  56 Batch   16/69   train_loss = 0.517\n",
      "Epoch  56 Batch   36/69   train_loss = 0.482\n",
      "Epoch  56 Batch   56/69   train_loss = 0.504\n",
      "Epoch  57 Batch    7/69   train_loss = 0.502\n",
      "Epoch  57 Batch   27/69   train_loss = 0.484\n",
      "Epoch  57 Batch   47/69   train_loss = 0.469\n",
      "Epoch  57 Batch   67/69   train_loss = 0.460\n",
      "Epoch  58 Batch   18/69   train_loss = 0.463\n",
      "Epoch  58 Batch   38/69   train_loss = 0.498\n",
      "Epoch  58 Batch   58/69   train_loss = 0.453\n",
      "Epoch  59 Batch    9/69   train_loss = 0.487\n",
      "Epoch  59 Batch   29/69   train_loss = 0.513\n",
      "Epoch  59 Batch   49/69   train_loss = 0.390\n",
      "Epoch  60 Batch    0/69   train_loss = 0.492\n",
      "Epoch  60 Batch   20/69   train_loss = 0.432\n",
      "Epoch  60 Batch   40/69   train_loss = 0.435\n",
      "Epoch  60 Batch   60/69   train_loss = 0.419\n",
      "Epoch  61 Batch   11/69   train_loss = 0.447\n",
      "Epoch  61 Batch   31/69   train_loss = 0.447\n",
      "Epoch  61 Batch   51/69   train_loss = 0.398\n",
      "Epoch  62 Batch    2/69   train_loss = 0.475\n",
      "Epoch  62 Batch   22/69   train_loss = 0.461\n",
      "Epoch  62 Batch   42/69   train_loss = 0.484\n",
      "Epoch  62 Batch   62/69   train_loss = 0.431\n",
      "Epoch  63 Batch   13/69   train_loss = 0.423\n",
      "Epoch  63 Batch   33/69   train_loss = 0.474\n",
      "Epoch  63 Batch   53/69   train_loss = 0.435\n",
      "Epoch  64 Batch    4/69   train_loss = 0.409\n",
      "Epoch  64 Batch   24/69   train_loss = 0.426\n",
      "Epoch  64 Batch   44/69   train_loss = 0.425\n",
      "Epoch  64 Batch   64/69   train_loss = 0.414\n",
      "Epoch  65 Batch   15/69   train_loss = 0.466\n",
      "Epoch  65 Batch   35/69   train_loss = 0.430\n",
      "Epoch  65 Batch   55/69   train_loss = 0.439\n",
      "Epoch  66 Batch    6/69   train_loss = 0.415\n",
      "Epoch  66 Batch   26/69   train_loss = 0.428\n",
      "Epoch  66 Batch   46/69   train_loss = 0.455\n",
      "Epoch  66 Batch   66/69   train_loss = 0.415\n",
      "Epoch  67 Batch   17/69   train_loss = 0.374\n",
      "Epoch  67 Batch   37/69   train_loss = 0.411\n",
      "Epoch  67 Batch   57/69   train_loss = 0.419\n",
      "Epoch  68 Batch    8/69   train_loss = 0.403\n",
      "Epoch  68 Batch   28/69   train_loss = 0.433\n",
      "Epoch  68 Batch   48/69   train_loss = 0.374\n",
      "Epoch  68 Batch   68/69   train_loss = 0.425\n",
      "Epoch  69 Batch   19/69   train_loss = 0.392\n",
      "Epoch  69 Batch   39/69   train_loss = 0.410\n",
      "Epoch  69 Batch   59/69   train_loss = 0.404\n",
      "Epoch  70 Batch   10/69   train_loss = 0.418\n",
      "Epoch  70 Batch   30/69   train_loss = 0.467\n",
      "Epoch  70 Batch   50/69   train_loss = 0.432\n",
      "Epoch  71 Batch    1/69   train_loss = 0.439\n",
      "Epoch  71 Batch   21/69   train_loss = 0.392\n",
      "Epoch  71 Batch   41/69   train_loss = 0.405\n",
      "Epoch  71 Batch   61/69   train_loss = 0.351\n",
      "Epoch  72 Batch   12/69   train_loss = 0.432\n",
      "Epoch  72 Batch   32/69   train_loss = 0.401\n",
      "Epoch  72 Batch   52/69   train_loss = 0.416\n",
      "Epoch  73 Batch    3/69   train_loss = 0.386\n",
      "Epoch  73 Batch   23/69   train_loss = 0.390\n",
      "Epoch  73 Batch   43/69   train_loss = 0.407\n",
      "Epoch  73 Batch   63/69   train_loss = 0.431\n",
      "Epoch  74 Batch   14/69   train_loss = 0.394\n",
      "Epoch  74 Batch   34/69   train_loss = 0.415\n",
      "Epoch  74 Batch   54/69   train_loss = 0.368\n",
      "Epoch  75 Batch    5/69   train_loss = 0.422\n",
      "Epoch  75 Batch   25/69   train_loss = 0.424\n",
      "Epoch  75 Batch   45/69   train_loss = 0.396\n",
      "Epoch  75 Batch   65/69   train_loss = 0.408\n",
      "Epoch  76 Batch   16/69   train_loss = 0.413\n",
      "Epoch  76 Batch   36/69   train_loss = 0.386\n",
      "Epoch  76 Batch   56/69   train_loss = 0.410\n",
      "Epoch  77 Batch    7/69   train_loss = 0.386\n",
      "Epoch  77 Batch   27/69   train_loss = 0.391\n",
      "Epoch  77 Batch   47/69   train_loss = 0.379\n",
      "Epoch  77 Batch   67/69   train_loss = 0.386\n",
      "Epoch  78 Batch   18/69   train_loss = 0.369\n",
      "Epoch  78 Batch   38/69   train_loss = 0.415\n",
      "Epoch  78 Batch   58/69   train_loss = 0.391\n",
      "Epoch  79 Batch    9/69   train_loss = 0.419\n",
      "Epoch  79 Batch   29/69   train_loss = 0.442\n",
      "Epoch  79 Batch   49/69   train_loss = 0.328\n",
      "Epoch  80 Batch    0/69   train_loss = 0.424\n",
      "Epoch  80 Batch   20/69   train_loss = 0.363\n",
      "Epoch  80 Batch   40/69   train_loss = 0.372\n",
      "Epoch  80 Batch   60/69   train_loss = 0.363\n",
      "Epoch  81 Batch   11/69   train_loss = 0.400\n",
      "Epoch  81 Batch   31/69   train_loss = 0.387\n",
      "Epoch  81 Batch   51/69   train_loss = 0.352\n",
      "Epoch  82 Batch    2/69   train_loss = 0.424\n",
      "Epoch  82 Batch   22/69   train_loss = 0.414\n",
      "Epoch  82 Batch   42/69   train_loss = 0.420\n",
      "Epoch  82 Batch   62/69   train_loss = 0.382\n",
      "Epoch  83 Batch   13/69   train_loss = 0.384\n",
      "Epoch  83 Batch   33/69   train_loss = 0.420\n",
      "Epoch  83 Batch   53/69   train_loss = 0.391\n",
      "Epoch  84 Batch    4/69   train_loss = 0.374\n",
      "Epoch  84 Batch   24/69   train_loss = 0.397\n",
      "Epoch  84 Batch   44/69   train_loss = 0.384\n",
      "Epoch  84 Batch   64/69   train_loss = 0.379\n",
      "Epoch  85 Batch   15/69   train_loss = 0.421\n",
      "Epoch  85 Batch   35/69   train_loss = 0.394\n",
      "Epoch  85 Batch   55/69   train_loss = 0.404\n",
      "Epoch  86 Batch    6/69   train_loss = 0.388\n",
      "Epoch  86 Batch   26/69   train_loss = 0.393\n",
      "Epoch  86 Batch   46/69   train_loss = 0.425\n",
      "Epoch  86 Batch   66/69   train_loss = 0.387\n",
      "Epoch  87 Batch   17/69   train_loss = 0.350\n",
      "Epoch  87 Batch   37/69   train_loss = 0.375\n",
      "Epoch  87 Batch   57/69   train_loss = 0.394\n",
      "Epoch  88 Batch    8/69   train_loss = 0.374\n",
      "Epoch  88 Batch   28/69   train_loss = 0.407\n",
      "Epoch  88 Batch   48/69   train_loss = 0.343\n",
      "Epoch  88 Batch   68/69   train_loss = 0.396\n",
      "Epoch  89 Batch   19/69   train_loss = 0.362\n",
      "Epoch  89 Batch   39/69   train_loss = 0.393\n",
      "Epoch  89 Batch   59/69   train_loss = 0.374\n",
      "Epoch  90 Batch   10/69   train_loss = 0.400\n",
      "Epoch  90 Batch   30/69   train_loss = 0.443\n",
      "Epoch  90 Batch   50/69   train_loss = 0.406\n",
      "Epoch  91 Batch    1/69   train_loss = 0.414\n",
      "Epoch  91 Batch   21/69   train_loss = 0.369\n",
      "Epoch  91 Batch   41/69   train_loss = 0.392\n",
      "Epoch  91 Batch   61/69   train_loss = 0.331\n",
      "Epoch  92 Batch   12/69   train_loss = 0.403\n",
      "Epoch  92 Batch   32/69   train_loss = 0.381\n",
      "Epoch  92 Batch   52/69   train_loss = 0.397\n",
      "Epoch  93 Batch    3/69   train_loss = 0.367\n",
      "Epoch  93 Batch   23/69   train_loss = 0.376\n",
      "Epoch  93 Batch   43/69   train_loss = 0.393\n",
      "Epoch  93 Batch   63/69   train_loss = 0.417\n",
      "Epoch  94 Batch   14/69   train_loss = 0.380\n",
      "Epoch  94 Batch   34/69   train_loss = 0.404\n",
      "Epoch  94 Batch   54/69   train_loss = 0.348\n",
      "Epoch  95 Batch    5/69   train_loss = 0.409\n",
      "Epoch  95 Batch   25/69   train_loss = 0.409\n",
      "Epoch  95 Batch   45/69   train_loss = 0.380\n",
      "Epoch  95 Batch   65/69   train_loss = 0.395\n",
      "Epoch  96 Batch   16/69   train_loss = 0.401\n",
      "Epoch  96 Batch   36/69   train_loss = 0.368\n",
      "Epoch  96 Batch   56/69   train_loss = 0.396\n",
      "Epoch  97 Batch    7/69   train_loss = 0.374\n",
      "Epoch  97 Batch   27/69   train_loss = 0.376\n",
      "Epoch  97 Batch   47/69   train_loss = 0.367\n",
      "Epoch  97 Batch   67/69   train_loss = 0.371\n",
      "Epoch  98 Batch   18/69   train_loss = 0.351\n",
      "Epoch  98 Batch   38/69   train_loss = 0.408\n",
      "Epoch  98 Batch   58/69   train_loss = 0.378\n",
      "Epoch  99 Batch    9/69   train_loss = 0.405\n",
      "Epoch  99 Batch   29/69   train_loss = 0.429\n",
      "Epoch  99 Batch   49/69   train_loss = 0.314\n",
      "Model Trained and Saved\n"
     ]
    }
   ],
   "source": [
    "\"\"\"\n",
    "DON'T MODIFY ANYTHING IN THIS CELL\n",
    "\"\"\"\n",
    "batches = get_batches(int_text, batch_size, seq_length)\n",
    "\n",
    "with tf.Session(graph=train_graph) as sess:\n",
    "    sess.run(tf.global_variables_initializer())\n",
    "\n",
    "    for epoch_i in range(num_epochs):\n",
    "        state = sess.run(initial_state, {input_text: batches[0][0]})\n",
    "\n",
    "        for batch_i, (x, y) in enumerate(batches):\n",
    "            feed = {\n",
    "                input_text: x,\n",
    "                targets: y,\n",
    "                initial_state: state,\n",
    "                lr: learning_rate}\n",
    "            train_loss, state, _ = sess.run([cost, final_state, train_op], feed)\n",
    "\n",
    "            # Show every <show_every_n_batches> batches\n",
    "            if (epoch_i * len(batches) + batch_i) % show_every_n_batches == 0:\n",
    "                print('Epoch {:>3} Batch {:>4}/{}   train_loss = {:.3f}'.format(\n",
    "                    epoch_i,\n",
    "                    batch_i,\n",
    "                    len(batches),\n",
    "                    train_loss))\n",
    "\n",
    "    # Save Model\n",
    "    saver = tf.train.Saver()\n",
    "    saver.save(sess, save_dir)\n",
    "    print('Model Trained and Saved')"
   ]
  },
  {
   "cell_type": "markdown",
   "metadata": {},
   "source": [
    "Vasileios' comment: It looks like it reaches training loss of 0.4 around 67th iteration and there is plateau after 67th iteration around that value."
   ]
  },
  {
   "cell_type": "markdown",
   "metadata": {},
   "source": [
    "## Save Parameters\n",
    "Save `seq_length` and `save_dir` for generating a new TV script."
   ]
  },
  {
   "cell_type": "code",
   "execution_count": 17,
   "metadata": {
    "collapsed": true
   },
   "outputs": [],
   "source": [
    "\"\"\"\n",
    "DON'T MODIFY ANYTHING IN THIS CELL\n",
    "\"\"\"\n",
    "# Save parameters for checkpoint\n",
    "helper.save_params((seq_length, save_dir))"
   ]
  },
  {
   "cell_type": "markdown",
   "metadata": {},
   "source": [
    "# Checkpoint"
   ]
  },
  {
   "cell_type": "code",
   "execution_count": 18,
   "metadata": {
    "collapsed": true
   },
   "outputs": [],
   "source": [
    "\"\"\"\n",
    "DON'T MODIFY ANYTHING IN THIS CELL\n",
    "\"\"\"\n",
    "import tensorflow as tf\n",
    "import numpy as np\n",
    "import helper\n",
    "import problem_unittests as tests\n",
    "\n",
    "_, vocab_to_int, int_to_vocab, token_dict = helper.load_preprocess()\n",
    "seq_length, load_dir = helper.load_params()"
   ]
  },
  {
   "cell_type": "markdown",
   "metadata": {},
   "source": [
    "## Implement Generate Functions\n",
    "### Get Tensors\n",
    "Get tensors from `loaded_graph` using the function [`get_tensor_by_name()`](https://www.tensorflow.org/api_docs/python/tf/Graph#get_tensor_by_name).  Get the tensors using the following names:\n",
    "- \"input:0\"\n",
    "- \"initial_state:0\"\n",
    "- \"final_state:0\"\n",
    "- \"probs:0\"\n",
    "\n",
    "Return the tensors in the following tuple `(InputTensor, InitialStateTensor, FinalStateTensor, ProbsTensor)` "
   ]
  },
  {
   "cell_type": "code",
   "execution_count": 19,
   "metadata": {},
   "outputs": [
    {
     "name": "stdout",
     "output_type": "stream",
     "text": [
      "Tests Passed\n"
     ]
    }
   ],
   "source": [
    "def get_tensors(loaded_graph):\n",
    "    \"\"\"\n",
    "    Get input, initial state, final state, and probabilities tensor from <loaded_graph>\n",
    "    :param loaded_graph: TensorFlow graph loaded from file\n",
    "    :return: Tuple (InputTensor, InitialStateTensor, FinalStateTensor, ProbsTensor)\n",
    "    \"\"\"\n",
    "    # TODO: Implement Function\n",
    "    InputTensor=loaded_graph.get_tensor_by_name(\"input:0\")\n",
    "    InitialStateTensor=loaded_graph.get_tensor_by_name(\"initial_state:0\")\n",
    "    FinalStateTensor=loaded_graph.get_tensor_by_name(\"final_state:0\")\n",
    "    ProbsTensor=loaded_graph.get_tensor_by_name(\"probs:0\")\n",
    "    \n",
    "    return InputTensor, InitialStateTensor, FinalStateTensor, ProbsTensor\n",
    "    #return None, None, None, None\n",
    "\n",
    "\n",
    "\"\"\"\n",
    "DON'T MODIFY ANYTHING IN THIS CELL THAT IS BELOW THIS LINE\n",
    "\"\"\"\n",
    "tests.test_get_tensors(get_tensors)"
   ]
  },
  {
   "cell_type": "markdown",
   "metadata": {},
   "source": [
    "### Choose Word\n",
    "Implement the `pick_word()` function to select the next word using `probabilities`."
   ]
  },
  {
   "cell_type": "code",
   "execution_count": 20,
   "metadata": {},
   "outputs": [
    {
     "name": "stdout",
     "output_type": "stream",
     "text": [
      "Tests Passed\n"
     ]
    }
   ],
   "source": [
    "def pick_word(probabilities, int_to_vocab):\n",
    "    \"\"\"\n",
    "    Pick the next word in the generated text\n",
    "    :param probabilities: Probabilites of the next word\n",
    "    :param int_to_vocab: Dictionary of word ids as the keys and words as the values\n",
    "    :return: String of the predicted word\n",
    "    \"\"\"\n",
    "    # TODO: Implement Function\n",
    "    predicted_word=int_to_vocab[np.argmax(probabilities)]\n",
    "    return predicted_word\n",
    "    #return None\n",
    "\n",
    "\n",
    "\"\"\"\n",
    "DON'T MODIFY ANYTHING IN THIS CELL THAT IS BELOW THIS LINE\n",
    "\"\"\"\n",
    "tests.test_pick_word(pick_word)"
   ]
  },
  {
   "cell_type": "markdown",
   "metadata": {},
   "source": [
    "## Generate TV Script\n",
    "This will generate the TV script for you.  Set `gen_length` to the length of TV script you want to generate."
   ]
  },
  {
   "cell_type": "code",
   "execution_count": 21,
   "metadata": {},
   "outputs": [
    {
     "name": "stdout",
     "output_type": "stream",
     "text": [
      "INFO:tensorflow:Restoring parameters from ./save\n",
      "moe_szyslak:(singing, points) yeah well the sign still might still cool here all a couple of the can help drive the night.\n",
      "carl_carlson: homer, i was just as a as safe as burns as powerful as me a good.\n",
      "homer_simpson:(reaches into a beer) oh yeah, yeah, you wanna know, i know a lot of my friend.\n",
      "moe_szyslak: that was my grandmother's wedding urinal and let me die.\n",
      "moe_szyslak: oh, i cannot the springfield travel agency!\n",
      "homer_simpson: yeah, that's right, brainiac. you cost me my wife is marge.\n",
      "marge_simpson: i made the greatest friend.\n",
      "moe_szyslak: oh yeah. i am a professional. roll out that says!\n",
      "homer_simpson:(brightening) ah, barney! there's a line!\" sassy seat, lenny.\"\n",
      "\n",
      "\n",
      "homer_simpson:(moan) my campaign is a girl scout meeting...\n",
      "krusty_the_clown: i, uh, i just think of course i see we're here!\n",
      "carl_carlson: oh, i can't remember limericks?\n",
      "moe_szyslak: oh,\n"
     ]
    }
   ],
   "source": [
    "gen_length = 200\n",
    "# homer_simpson, moe_szyslak, or Barney_Gumble\n",
    "prime_word = 'moe_szyslak'\n",
    "\n",
    "\"\"\"\n",
    "DON'T MODIFY ANYTHING IN THIS CELL THAT IS BELOW THIS LINE\n",
    "\"\"\"\n",
    "loaded_graph = tf.Graph()\n",
    "with tf.Session(graph=loaded_graph) as sess:\n",
    "    # Load saved model\n",
    "    loader = tf.train.import_meta_graph(load_dir + '.meta')\n",
    "    loader.restore(sess, load_dir)\n",
    "\n",
    "    # Get Tensors from loaded model\n",
    "    input_text, initial_state, final_state, probs = get_tensors(loaded_graph)\n",
    "\n",
    "    # Sentences generation setup\n",
    "    gen_sentences = [prime_word + ':']\n",
    "    prev_state = sess.run(initial_state, {input_text: np.array([[1]])})\n",
    "\n",
    "    # Generate sentences\n",
    "    for n in range(gen_length):\n",
    "        # Dynamic Input\n",
    "        dyn_input = [[vocab_to_int[word] for word in gen_sentences[-seq_length:]]]\n",
    "        dyn_seq_length = len(dyn_input[0])\n",
    "\n",
    "        # Get Prediction\n",
    "        probabilities, prev_state = sess.run(\n",
    "            [probs, final_state],\n",
    "            {input_text: dyn_input, initial_state: prev_state})\n",
    "        \n",
    "        pred_word = pick_word(probabilities[0][dyn_seq_length-1], int_to_vocab)\n",
    "\n",
    "        gen_sentences.append(pred_word)\n",
    "    \n",
    "    # Remove tokens\n",
    "    tv_script = ' '.join(gen_sentences)\n",
    "    for key, token in token_dict.items():\n",
    "        ending = ' ' if key in ['\\n', '(', '\"'] else ''\n",
    "        tv_script = tv_script.replace(' ' + token.lower(), key)\n",
    "    tv_script = tv_script.replace('\\n ', '\\n')\n",
    "    tv_script = tv_script.replace('( ', '(')\n",
    "        \n",
    "    print(tv_script)"
   ]
  },
  {
   "cell_type": "markdown",
   "metadata": {},
   "source": [
    "# The TV Script is Nonsensical\n",
    "It's ok if the TV script doesn't make any sense.  We trained on less than a megabyte of text.  In order to get good results, you'll have to use a smaller vocabulary or get more data.  Luckily there's more data!  As we mentioned in the beggining of this project, this is a subset of [another dataset](https://www.kaggle.com/wcukierski/the-simpsons-by-the-data).  We didn't have you train on all the data, because that would take too long.  However, you are free to train your neural network on all the data.  After you complete the project, of course.\n",
    "# Submitting This Project\n",
    "When submitting this project, make sure to run all the cells before saving the notebook. Save the notebook file as \"dlnd_tv_script_generation.ipynb\" and save it as a HTML file under \"File\" -> \"Download as\". Include the \"helper.py\" and \"problem_unittests.py\" files in your submission."
   ]
  }
 ],
 "metadata": {
  "kernelspec": {
   "display_name": "Python 3",
   "language": "python",
   "name": "python3"
  },
  "language_info": {
   "codemirror_mode": {
    "name": "ipython",
    "version": 3
   },
   "file_extension": ".py",
   "mimetype": "text/x-python",
   "name": "python",
   "nbconvert_exporter": "python",
   "pygments_lexer": "ipython3",
   "version": "3.6.4"
  },
  "widgets": {
   "state": {},
   "version": "1.1.2"
  }
 },
 "nbformat": 4,
 "nbformat_minor": 1
}
